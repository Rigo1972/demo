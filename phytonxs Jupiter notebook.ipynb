{
    "cells": [
        {
            "metadata": {},
            "cell_type": "markdown",
            "source": "# My Jupyter Notebook on IBM Watson Studio #"
        },
        {
            "metadata": {},
            "cell_type": "markdown",
            "source": "**Rodrigo Granados**\n\nBIG Data Analyst"
        },
        {
            "metadata": {},
            "cell_type": "markdown",
            "source": "*I am interested in data science because this is a real oportunity to deploy a new job and let me grow my actual knowledge.*"
        },
        {
            "metadata": {},
            "cell_type": "markdown",
            "source": "### This code let you input a number, capture in a variable and print the variable value ###"
        },
        {
            "metadata": {},
            "cell_type": "code",
            "source": "n=int(input(\"input a number :\")) \nprint(\"the written number was: \", n)",
            "execution_count": 7,
            "outputs": [
                {
                    "output_type": "stream",
                    "name": "stdout",
                    "text": "input a number :2345\nthe written number was:  2345\n"
                }
            ]
        }
    ],
    "metadata": {
        "kernelspec": {
            "name": "python3",
            "display_name": "Python 3.6",
            "language": "python"
        },
        "language_info": {
            "name": "python",
            "version": "3.6.9",
            "mimetype": "text/x-python",
            "codemirror_mode": {
                "name": "ipython",
                "version": 3
            },
            "pygments_lexer": "ipython3",
            "nbconvert_exporter": "python",
            "file_extension": ".py"
        },
        "celltoolbar": "Slideshow"
    },
    "nbformat": 4,
    "nbformat_minor": 1
}